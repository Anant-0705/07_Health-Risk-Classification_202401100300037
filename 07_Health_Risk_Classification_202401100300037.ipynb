{
  "nbformat": 4,
  "nbformat_minor": 0,
  "metadata": {
    "colab": {
      "provenance": [],
      "mount_file_id": "1zQ-0nfyiafalRSfxFn8hD7MSGzoXh0Dl",
      "authorship_tag": "ABX9TyMHDKW6pdROZc4234WRTm+0",
      "include_colab_link": true
    },
    "kernelspec": {
      "name": "python3",
      "display_name": "Python 3"
    },
    "language_info": {
      "name": "python"
    }
  },
  "cells": [
    {
      "cell_type": "markdown",
      "metadata": {
        "id": "view-in-github",
        "colab_type": "text"
      },
      "source": [
        "<a href=\"https://colab.research.google.com/github/Anant-0705/07_Health-Risk-Classification_202401100300037/blob/main/07_Health_Risk_Classification_202401100300037.ipynb\" target=\"_parent\"><img src=\"https://colab.research.google.com/assets/colab-badge.svg\" alt=\"Open In Colab\"/></a>"
      ]
    },
    {
      "cell_type": "code",
      "source": [
        "import pandas as pd\n",
        "import numpy as np\n",
        "import seaborn as sns\n",
        "import matplotlib.pyplot as plt\n",
        "from sklearn.model_selection import train_test_split\n",
        "from sklearn.ensemble import RandomForestClassifier\n",
        "from sklearn.preprocessing import LabelEncoder\n",
        "from sklearn.metrics import accuracy_score, classification_report, confusion_matrix, precision_score, recall_score, f1_score\n",
        "\n",
        "# Step 1: Load dataset\n",
        "data = pd.read_csv(\"/content/health_risk.csv\")\n",
        "\n",
        "# Step 2: Rename columns\n",
        "data.rename(columns={\n",
        "    'bmi': 'BMI',\n",
        "    'exercise_hours': 'Exercise',\n",
        "    'junk_food_freq': 'Eating_Habits',\n",
        "    'risk_level': 'Risk_Category'\n",
        "}, inplace=True)\n",
        "\n",
        "# Step 3: Encode columns\n",
        "le_exercise = LabelEncoder()\n",
        "le_eating = LabelEncoder()\n",
        "le_risk = LabelEncoder()\n",
        "\n",
        "data['Exercise'] = le_exercise.fit_transform(data['Exercise'])\n",
        "data['Eating_Habits'] = le_eating.fit_transform(data['Eating_Habits'])\n",
        "data['Risk_Category'] = le_risk.fit_transform(data['Risk_Category'])\n",
        "\n",
        "# Step 4: Split into features and target\n",
        "X = data[['BMI', 'Exercise', 'Eating_Habits']]\n",
        "y = data['Risk_Category']\n",
        "\n",
        "# Step 5: Train-test split\n",
        "X_train, X_test, y_train, y_test = train_test_split(X, y, test_size=0.2, random_state=1)\n",
        "\n",
        "# Step 6: Train RandomForest model\n",
        "model = RandomForestClassifier(random_state=1)\n",
        "model.fit(X_train, y_train)\n",
        "\n",
        "# Step 7: Make predictions\n",
        "y_pred = model.predict(X_test)\n",
        "\n",
        "# Step 8: Evaluate model performance\n",
        "accuracy = accuracy_score(y_test, y_pred)\n",
        "precision = precision_score(y_test, y_pred, average='weighted')  # weighted because multiclass\n",
        "recall = recall_score(y_test, y_pred, average='weighted')\n",
        "f1 = f1_score(y_test, y_pred, average='weighted')\n",
        "\n",
        "print(\"Accuracy:\", accuracy)\n",
        "print(\"Precision:\", precision)\n",
        "print(\"Recall:\", recall)\n",
        "print(\"F1 Score:\", f1)\n",
        "print(\"\\nClassification Report:\\n\", classification_report(y_test, y_pred, target_names=le_risk.classes_))\n",
        "\n",
        "# Step 9: Confusion Matrix and Heatmap\n",
        "cm = confusion_matrix(y_test, y_pred)\n",
        "\n",
        "plt.figure(figsize=(8, 6))\n",
        "sns.heatmap(cm, annot=True, fmt='d', cmap='Blues', xticklabels=le_risk.classes_, yticklabels=le_risk.classes_)\n",
        "plt.xlabel('Predicted')\n",
        "plt.ylabel('Actual')\n",
        "plt.title('Confusion Matrix Heatmap')\n",
        "plt.show()\n",
        "\n",
        "# Step 10: Prediction function\n",
        "def predict_risk(bmi, exercise, eating):\n",
        "    try:\n",
        "        ex = le_exercise.transform([exercise])[0]\n",
        "        eat = le_eating.transform([eating])[0]\n",
        "    except ValueError as e:\n",
        "        raise ValueError(\"Invalid input for exercise or eating habits.\") from e\n",
        "\n",
        "    input_data = [[bmi, ex, eat]]\n",
        "    pred = model.predict(input_data)[0]\n",
        "    return le_risk.inverse_transform([pred])[0]\n"
      ],
      "metadata": {
        "colab": {
          "base_uri": "https://localhost:8080/",
          "height": 842
        },
        "id": "oEKFQRbu5wyP",
        "outputId": "5856e542-4e94-48b9-f874-e51a0ffa9eb6"
      },
      "execution_count": 11,
      "outputs": [
        {
          "output_type": "stream",
          "name": "stdout",
          "text": [
            "Accuracy: 0.5\n",
            "Precision: 0.45897435897435895\n",
            "Recall: 0.5\n",
            "F1 Score: 0.4563636363636364\n",
            "\n",
            "Classification Report:\n",
            "               precision    recall  f1-score   support\n",
            "\n",
            "        high       0.50      0.50      0.50         4\n",
            "         low       0.33      0.14      0.20         7\n",
            "      medium       0.54      0.78      0.64         9\n",
            "\n",
            "    accuracy                           0.50        20\n",
            "   macro avg       0.46      0.47      0.45        20\n",
            "weighted avg       0.46      0.50      0.46        20\n",
            "\n"
          ]
        },
        {
          "output_type": "display_data",
          "data": {
            "text/plain": [
              "<Figure size 800x600 with 2 Axes>"
            ],
            "image/png": "[encoded data removed]"
          },
          "metadata": {}
        }
      ]
    }
  ]
}